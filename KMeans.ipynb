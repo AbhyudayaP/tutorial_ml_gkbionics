{
 "metadata": {
  "name": "KMeans"
 },
 "nbformat": 3,
 "nbformat_minor": 0,
 "worksheets": [
  {
   "cells": [
    {
     "cell_type": "markdown",
     "metadata": {},
     "source": [
      "The kMeans Algorithm\n",
      "====================\n",
      "\n",
      "Again, we start by generating some artificial data:"
     ]
    },
    {
     "cell_type": "code",
     "collapsed": false,
     "input": [
      "plt.prism()\n",
      "import sklearn.datasets as datasets\n",
      "X, Y = datasets.make_blobs(cluster_std=0.5, random_state=0)"
     ],
     "language": "python",
     "metadata": {},
     "outputs": []
    },
    {
     "cell_type": "markdown",
     "metadata": {},
     "source": [
      "As always, we first *plot* the data to get a feeling of what we're dealing with:"
     ]
    },
    {
     "cell_type": "code",
     "collapsed": false,
     "input": [
      "plt.scatter(X[:,0], X[:,1]);"
     ],
     "language": "python",
     "metadata": {},
     "outputs": []
    },
    {
     "cell_type": "markdown",
     "metadata": {},
     "source": [
      "The data looks like it may contain three different \"types\" of data point. \n",
      "\n",
      "In fact, this is how it was created above.\n",
      "\n",
      "We can plot this information as well, using color:"
     ]
    },
    {
     "cell_type": "code",
     "collapsed": false,
     "input": [
      "plt.scatter(X[:,0], X[:,1], c=Y);"
     ],
     "language": "python",
     "metadata": {},
     "outputs": []
    },
    {
     "cell_type": "markdown",
     "metadata": {},
     "source": [
      "Normally, you do not know the information in `Y`, however.\n",
      "\n",
      "You could try to recover it from the data alone.\n",
      "\n",
      "This is what the kMeans algorithm does. "
     ]
    },
    {
     "cell_type": "code",
     "collapsed": false,
     "input": [
      "from sklearn.cluster import KMeans\n",
      "kmeans = KMeans(3)\n",
      "Y_hat = kmeans.fit(X).labels_"
     ],
     "language": "python",
     "metadata": {},
     "outputs": []
    },
    {
     "cell_type": "markdown",
     "metadata": {},
     "source": [
      "Now the label assignments should be quite similar to `Y`, up to a different ordering of the colors:"
     ]
    },
    {
     "cell_type": "code",
     "collapsed": false,
     "input": [
      "plt.scatter(X[:,0], X[:,1], c=Y_hat);"
     ],
     "language": "python",
     "metadata": {},
     "outputs": []
    },
    {
     "cell_type": "markdown",
     "metadata": {},
     "source": [
      "Often, you're not so much interested in the assignments to the means. \n",
      "\n",
      "You'll want to have a closer look at the means $\\mu$.\n",
      "\n",
      "The means in $\\mu$ can be seen as *representatives* of their respective cluster."
     ]
    },
    {
     "cell_type": "code",
     "collapsed": false,
     "input": [
      "plt.scatter(X[:,0], X[:,1], c=Y_hat, alpha=0.4)\n",
      "mu = kmeans.cluster_centers_\n",
      "plt.scatter(mu[:,0], mu[:,1], s=100, c=[0,1,2])\n",
      "print mu"
     ],
     "language": "python",
     "metadata": {},
     "outputs": []
    },
    {
     "cell_type": "heading",
     "level": 2,
     "metadata": {},
     "source": [
      "Playing with $k$-Means"
     ]
    },
    {
     "cell_type": "markdown",
     "metadata": {},
     "source": [
      "This website allows you to play with the $k$-Means algorithm on another artificial dataset, the \"Mickey Mouse\" dataset.\n",
      "\n",
      "You \"step\" through the algorithm by pressing the buttons in the correct order. \n",
      "\n",
      "Try to get a feeling of how the algorithm proceeds."
     ]
    },
    {
     "cell_type": "code",
     "collapsed": false,
     "input": [
      "from IPython.display import HTML\n",
      "HTML('<iframe src=http://icperformance.com/wp-content/demos/kmeansmouse.html width=500 height=450></iframe>')"
     ],
     "language": "python",
     "metadata": {},
     "outputs": []
    },
    {
     "cell_type": "markdown",
     "metadata": {},
     "source": [
      "Playing with this Notebook\n",
      "==========================\n",
      "\n",
      "Try to see what happens when you\n",
      "\n",
      "- Increase the standard deviation of the clusters in this notebook\n",
      "- Choose a \"wrong\" number of clusters by:\n",
      "  1. changing the number of clusters generated\n",
      "  2. changing the number of clusters used by KMeans\n",
      "\n",
      "- What happens to result of the $k$-Means algorithm when you have multiplied one axis of the matrix $X$ with a large value?\n",
      "\n",
      "  For example, the 0-th axis with 100:\n",
      "\n",
      "  `X[:,0] *= 100`\n",
      "\n",
      "  Why does the result change?\n",
      "\n",
      "- Combine the $k$-Means algorithm with the PCA algorithm"
     ]
    },
    {
     "cell_type": "code",
     "collapsed": false,
     "input": [],
     "language": "python",
     "metadata": {},
     "outputs": []
    }
   ],
   "metadata": {}
  }
 ]
}